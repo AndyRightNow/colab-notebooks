{
  "cells": [
    {
      "cell_type": "markdown",
      "metadata": {
        "id": "15WNIp1YTK0d"
      },
      "source": [
        "# Repo"
      ]
    },
    {
      "cell_type": "code",
      "execution_count": null,
      "metadata": {
        "id": "dloLP2NnBYXM",
        "vscode": {
          "languageId": "shellscript"
        },
        "cellView": "form"
      },
      "outputs": [],
      "source": [
        "#@title Clone repo\n",
        "from google.colab import userdata\n",
        "github_token = userdata.get('github_token')\n",
        "\n",
        "%cd /content\n",
        "!git clone https://$github_token@github.com/andyrightnow/fish-speech.git"
      ]
    },
    {
      "cell_type": "code",
      "execution_count": null,
      "metadata": {
        "id": "9ct_JbXwHC5a",
        "cellView": "form"
      },
      "outputs": [],
      "source": [
        "#@title Checkout and pull code\n",
        "\n",
        "%cd /content/fish-speech\n",
        "!git checkout andy\n",
        "!git pull\n",
        "\n",
        "!git config --global user.email \"naruto199507@gmail.com\"\n",
        "!git config --global user.name \"AndyRightNow\""
      ]
    },
    {
      "cell_type": "code",
      "execution_count": null,
      "metadata": {
        "id": "HJk1Gww7BYXN",
        "vscode": {
          "languageId": "shellscript"
        },
        "cellView": "form"
      },
      "outputs": [],
      "source": [
        "#@title Install `uv`\n",
        "\n",
        "!curl -LsSf https://astral.sh/uv/install.sh | sh\n",
        "!source $HOME/.local/bin/env"
      ]
    },
    {
      "cell_type": "code",
      "execution_count": null,
      "metadata": {
        "collapsed": true,
        "id": "9JJtW27kBYXN",
        "vscode": {
          "languageId": "shellscript"
        }
      },
      "outputs": [],
      "source": [
        "#@title Install dependencies\n",
        "\n",
        "!uv pip install --system torch==2.4.1 torchvision==0.19.1 torchaudio==2.4.1 m4b-util==0.4.1\n",
        "\n",
        "\n",
        "!apt install libsox-dev ffmpeg\n",
        "\n",
        "!apt install build-essential \\\n",
        "    cmake \\\n",
        "    libasound-dev \\\n",
        "    portaudio19-dev \\\n",
        "    libportaudio2 \\\n",
        "    libportaudiocpp0\n",
        "\n",
        "!uv pip install --system -e .[stable]\n",
        "\n",
        "from google.colab import output\n",
        "\n",
        "output.clear()"
      ]
    },
    {
      "cell_type": "code",
      "execution_count": null,
      "metadata": {
        "id": "h_LhkeowBYXN",
        "vscode": {
          "languageId": "shellscript"
        },
        "cellView": "form"
      },
      "outputs": [],
      "source": [
        "#@title Download checkpoints\n",
        "\n",
        "from google.colab import userdata\n",
        "huggingface_token = userdata.get('huggingfaceToken')\n",
        "\n",
        "!uv pip install --system -U \"huggingface_hub[cli]\"\n",
        "!huggingface-cli login --token $huggingface_token  --add-to-git-credential\n",
        "!huggingface-cli download fishaudio/fish-speech-1.5 --local-dir checkpoints/fish-speech-1.5"
      ]
    },
    {
      "cell_type": "code",
      "execution_count": null,
      "metadata": {
        "id": "FPuETpAgBYXN"
      },
      "outputs": [],
      "source": [
        "#@title Upload input files\n",
        "\n",
        "%cd /content/fish-speech/generate_pipelines\n",
        "!mkdir input\n",
        "%cd input\n",
        "\n",
        "from google.colab import files\n",
        "\n",
        "uploaded = files.upload()\n",
        "\n",
        "for fn in uploaded.keys():\n",
        "  print('User uploaded file \"{name}\" with length {length} bytes'.format(\n",
        "      name=fn, length=len(uploaded[fn])))\n",
        "\n",
        "%cd /content/fish-speech"
      ]
    },
    {
      "cell_type": "markdown",
      "metadata": {
        "id": "gxETuQwLBYXN"
      },
      "source": [
        "# Run generate script"
      ]
    },
    {
      "cell_type": "code",
      "execution_count": null,
      "metadata": {
        "id": "xWByH46tBYXO",
        "cellView": "form"
      },
      "outputs": [],
      "source": [
        "#@title __Archived scripts\n",
        "\n",
        "# !python generate_pipelines/main.py --prompt-name tifa --input-name we-after-everything --insert-segment-title true --segment-title-language en --max-sem-input-count 2500\n",
        "# !python generate_pipelines/convert_mp3.py --input-name we-after-everything --prompt-name tifa --max-sem-input-count 2500\n",
        "# !python generate_pipelines/convert_mp3.py --input-name hengxingshike --prompt-name weisan\n",
        "\n",
        "# ------------------------------------ Archived ------------------------------------\n"
      ]
    },
    {
      "cell_type": "code",
      "execution_count": null,
      "metadata": {
        "id": "4bBk0-7gBYXO",
        "vscode": {
          "languageId": "shellscript"
        }
      },
      "outputs": [],
      "source": [
        "# @title Main scripts\n",
        "# Run scripts here\n",
        "\n",
        "from google.colab import output\n",
        "\n",
        "output.clear()\n",
        "\n",
        "!LOGURU_LEVEL=SUCCESS python generate_pipelines/main.py --prompt-name xianyun --input-name wanjiaqingjiuwei --generate-mp3 true --max-sem-input-count 999"
      ]
    },
    {
      "cell_type": "code",
      "source": [
        "#@title Bind audiobook\n",
        "\n",
        "\n",
        "hash = '' # @param {type: \"string\"}\n",
        "title = 'Wanjiaqingjiuwei Part 2' # @param {type: \"string\"}\n",
        "author = '时微月上' # @param {type: \"string\"}\n",
        "\n",
        "if hash and title and author:\n",
        "  !python -m m4b_util bind generate_pipelines/output/mp3/{hash} -o generate_pipelines/output -t \"{title}\" --use-filename -a \"{author}\""
      ],
      "metadata": {
        "cellView": "form",
        "id": "srt5hZYRQux5"
      },
      "execution_count": null,
      "outputs": []
    },
    {
      "cell_type": "code",
      "execution_count": null,
      "metadata": {
        "id": "Oe0qtKnccWIR",
        "cellView": "form"
      },
      "outputs": [],
      "source": [
        "#@title Commit and push states\n",
        "\n",
        "import os\n",
        "\n",
        "%cd /content/fish-speech\n",
        "# Check for modified files in generate_pipelines/states\n",
        "!git status -s generate_pipelines/states\n",
        "\n",
        "# Check if there's any output from the git status command\n",
        "if os.system('git status -s generate_pipelines/states | grep \"states\"') != 0:\n",
        "  print(\"No changes detected in generate_pipelines/states\")\n",
        "else:\n",
        "  confirm = input(\"Are you sure?(y/n)\")\n",
        "\n",
        "  if confirm == \"y\":\n",
        "    !git add generate_pipelines/states\n",
        "    !git commit -m \"Commit states\"\n",
        "    !git push"
      ]
    },
    {
      "cell_type": "code",
      "execution_count": null,
      "metadata": {
        "id": "eqnFqGdqAIcf"
      },
      "outputs": [],
      "source": [
        "#@title (Dangerous) Hard reset to origin\n",
        "\n",
        "!git checkout andy\n",
        "\n",
        "confirm = input(\"Are you sure?(y/n)\")\n",
        "\n",
        "if confirm == \"y\":\n",
        "  !git fetch --all && git reset --hard origin/andy"
      ]
    },
    {
      "cell_type": "markdown",
      "source": [
        "# Debug"
      ],
      "metadata": {
        "id": "MFBhMv_Nlygx"
      }
    },
    {
      "cell_type": "code",
      "source": [
        "debug = False  # @param {type: \"boolean\"}"
      ],
      "metadata": {
        "id": "izleP9uRl0VZ"
      },
      "execution_count": null,
      "outputs": []
    },
    {
      "cell_type": "code",
      "source": [
        "if debug:\n",
        "  %cd /content/fish-speech\n",
        "  !python generate_pipelines/debug_print_shelve.py --input-name hengxingshike --prompt-name weisan\n",
        "\n",
        "  !cat generate_pipelines/states/states.json"
      ],
      "metadata": {
        "id": "3D4R5BvXl8pt"
      },
      "execution_count": null,
      "outputs": []
    },
    {
      "cell_type": "markdown",
      "source": [
        "# Generate voice prompts"
      ],
      "metadata": {
        "id": "S-iMwpYVf5lw"
      }
    },
    {
      "cell_type": "code",
      "source": [
        "generate_voice_prompts = False  # @param {type: \"boolean\"}"
      ],
      "metadata": {
        "id": "LgCALmGpf4Oq"
      },
      "execution_count": null,
      "outputs": []
    },
    {
      "cell_type": "code",
      "source": [
        "# prompt: if `generate_voice_prompts` is true, first prompt to ask for an input audio file and an audio text, and then save the text file to generate_pipelines/{audio_file_name}.txt\n",
        "from google.colab import files\n",
        "from pathlib import Path\n",
        "import time\n",
        "\n",
        "if generate_voice_prompts:\n",
        "  %cd /content/fish-speech\n",
        "  tmp_voice_prompts_dir_name = f\"_tmp_voice_prompts_{int(time.time())}\"\n",
        "  !mkdir $tmp_voice_prompts_dir_name\n",
        "  %cd $tmp_voice_prompts_dir_name\n",
        "\n",
        "  uploaded = files.upload()\n",
        "\n",
        "  for fn in uploaded.keys():\n",
        "    print('User uploaded file \"{name}\" with length {length} bytes'.format(\n",
        "        name=fn, length=len(uploaded[fn])))\n",
        "\n",
        "  audio_text = input(\"Enter the text for the audio: \")\n",
        "\n",
        "  %cd /content/fish-speech\n",
        "\n",
        "  audio_file_name = next(iter(uploaded.keys()), None)\n",
        "  audio_file_name_stem = Path(audio_file_name).stem\n",
        "\n",
        "  !python tools/vqgan/inference.py -i \"{tmp_voice_prompts_dir_name}/{audio_file_name}\" --checkpoint-path \"checkpoints/fish-speech-1.5/firefly-gan-vq-fsq-8x1024-21hz-generator.pth\" -o \"generate_pipelines/{audio_file_name_stem}.wav\"\n",
        "\n",
        "  !echo \"{audio_text}\" > \"generate_pipelines/{audio_file_name_stem}.txt\"\n",
        "\n",
        "  !git status -s generate_pipelines\n",
        "  confirm = input(\"Are you sure you want to commit the voice prompts?(y/n)\")\n",
        "\n",
        "  if confirm == 'y':\n",
        "    !git add generate_pipelines/*.npy generate_pipelines/*.txt\n",
        "    !git commit -m \"Commit voice prompts\"\n",
        "    !git push"
      ],
      "metadata": {
        "id": "YIFyIFkqgC8c"
      },
      "execution_count": null,
      "outputs": []
    }
  ],
  "metadata": {
    "colab": {
      "provenance": [],
      "machine_shape": "hm",
      "gpuType": "T4"
    },
    "kernelspec": {
      "display_name": "Python 3",
      "name": "python3"
    },
    "language_info": {
      "codemirror_mode": {
        "name": "ipython",
        "version": 3
      },
      "file_extension": ".py",
      "mimetype": "text/x-python",
      "name": "python",
      "nbconvert_exporter": "python",
      "pygments_lexer": "ipython3",
      "version": "3.10.14"
    },
    "accelerator": "GPU"
  },
  "nbformat": 4,
  "nbformat_minor": 0
}