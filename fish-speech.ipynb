{
  "cells": [
    {
      "cell_type": "markdown",
      "metadata": {
        "id": "15WNIp1YTK0d"
      },
      "source": [
        "# Repo"
      ]
    },
    {
      "cell_type": "code",
      "execution_count": null,
      "metadata": {
        "id": "dloLP2NnBYXM",
        "vscode": {
          "languageId": "shellscript"
        },
        "cellView": "form"
      },
      "outputs": [],
      "source": [
        "#@title Clone repo\n",
        "\n",
        "\n",
        "!git clone https://github.com/AndyRightNow/fish-speech.git\n",
        "%cd fish-speech"
      ]
    },
    {
      "cell_type": "code",
      "execution_count": null,
      "metadata": {
        "id": "9ct_JbXwHC5a"
      },
      "outputs": [],
      "source": [
        "!git checkout andy\n",
        "!git pull"
      ]
    },
    {
      "cell_type": "code",
      "execution_count": null,
      "metadata": {
        "id": "HJk1Gww7BYXN",
        "vscode": {
          "languageId": "shellscript"
        }
      },
      "outputs": [],
      "source": [
        "#@title Install `uv`\n",
        "\n",
        "!curl -LsSf https://astral.sh/uv/install.sh | sh\n",
        "!source $HOME/.local/bin/env"
      ]
    },
    {
      "cell_type": "code",
      "execution_count": null,
      "metadata": {
        "collapsed": true,
        "id": "9JJtW27kBYXN",
        "vscode": {
          "languageId": "shellscript"
        },
        "cellView": "form"
      },
      "outputs": [],
      "source": [
        "#@title Install dependencies\n",
        "\n",
        "!uv pip install --system torch==2.4.1 torchvision==0.19.1 torchaudio==2.4.1 m4b-util==0.4.1\n",
        "\n",
        "\n",
        "!apt install libsox-dev ffmpeg\n",
        "\n",
        "!apt install build-essential \\\n",
        "    cmake \\\n",
        "    libasound-dev \\\n",
        "    portaudio19-dev \\\n",
        "    libportaudio2 \\\n",
        "    libportaudiocpp0\n",
        "\n",
        "!uv pip install --system -e .[stable]"
      ]
    },
    {
      "cell_type": "code",
      "execution_count": null,
      "metadata": {
        "id": "h_LhkeowBYXN",
        "vscode": {
          "languageId": "shellscript"
        },
        "cellView": "form"
      },
      "outputs": [],
      "source": [
        "#@title Download checkpoints\n",
        "\n",
        "from google.colab import userdata\n",
        "huggingface_token = userdata.get('huggingfaceToken')\n",
        "\n",
        "!uv pip install --system -U \"huggingface_hub[cli]\"\n",
        "!huggingface-cli login --token $huggingface_token  --add-to-git-credential\n",
        "!huggingface-cli download fishaudio/fish-speech-1.5 --local-dir checkpoints/fish-speech-1.5"
      ]
    },
    {
      "cell_type": "code",
      "execution_count": null,
      "metadata": {
        "id": "FPuETpAgBYXN",
        "cellView": "form"
      },
      "outputs": [],
      "source": [
        "#@title Upload input files\n",
        "\n",
        "%cd generate_pipelines\n",
        "!mkdir input\n",
        "%cd input\n",
        "\n",
        "from google.colab import files\n",
        "\n",
        "uploaded = files.upload()\n",
        "\n",
        "for fn in uploaded.keys():\n",
        "  print('User uploaded file \"{name}\" with length {length} bytes'.format(\n",
        "      name=fn, length=len(uploaded[fn])))\n",
        "\n",
        "%cd ../../"
      ]
    },
    {
      "cell_type": "markdown",
      "metadata": {
        "id": "gxETuQwLBYXN"
      },
      "source": [
        "# Run generate script"
      ]
    },
    {
      "cell_type": "code",
      "execution_count": null,
      "metadata": {
        "id": "xWByH46tBYXO",
        "cellView": "form"
      },
      "outputs": [],
      "source": [
        "#@title Archived scripts\n",
        "\n",
        "# !python generate_pipelines/main.py --prompt-name tifa --input-name we-after-everything --insert-segment-title true --segment-title-language en --max-sem-input-count 2500\n",
        "# !python generate_pipelines/convert_mp3.py --input-name we-after-everything --prompt-name tifa --max-sem-input-count 2500\n",
        "# !python generate_pipelines/convert_mp3.py --input-name hengxingshike --prompt-name weisan\n",
        "\n",
        "# ------------------------------------ Archived ------------------------------------\n"
      ]
    },
    {
      "cell_type": "code",
      "execution_count": null,
      "metadata": {
        "id": "4bBk0-7gBYXO",
        "vscode": {
          "languageId": "shellscript"
        },
        "colab": {
          "base_uri": "https://localhost:8080/"
        },
        "outputId": "a364eb67-62b1-4283-d83d-cebe1ffae569"
      },
      "outputs": [
        {
          "output_type": "stream",
          "name": "stdout",
          "text": [
            "  3% 113/3289 [00:00<00:14, 219.25it/s]\n",
            "  4% 116/3144 [00:00<00:13, 218.58it/s]\n",
            "  3% 91/3000 [00:00<00:13, 218.27it/s]\n",
            "  1% 39/2893 [00:00<00:13, 214.58it/s]\n",
            "  3% 92/2823 [00:00<00:12, 220.96it/s]"
          ]
        }
      ],
      "source": [
        "# Run scripts here\n",
        "\n",
        "from google.colab import output\n",
        "\n",
        "output.clear()\n",
        "\n",
        "!LOGURU_LEVEL=SUCCESS python generate_pipelines/main.py --prompt-name weisan --input-name hengxingshike --start-segment-index 400 --generate-mp3 true --force-segment-index 401 --force-segment-index 402 --force-segment-index 403 --force-segment-index 404 --force-segment-index 405 --force-segment-index 406 --force-segment-index 407 --force-segment-index 408 --force-segment-index 409 --force-segment-index 410 --force-segment-index 411 --force-segment-index 412 --force-segment-index 413 --force-segment-index 414 --force-segment-index 415 --force-segment-index 416 --force-segment-index 417 --force-segment-index 418 --force-segment-index 419 --force-segment-index 420 --force-segment-index 421 --force-segment-index 422 --force-segment-index 423 --force-segment-index 424 --force-segment-index 425 --force-segment-index 426 --force-segment-index 427 --force-segment-index 428 --force-segment-index 429 --force-segment-index 430 --force-segment-index 431 --force-segment-index 432 --force-segment-index 433 --force-segment-index 434 --force-segment-index 435 --force-segment-index 436 --force-segment-index 437 --force-segment-index 438 --force-segment-index 439 --force-segment-index 440 --force-segment-index 441 --force-segment-index 442 --force-segment-index 443 --force-segment-index 444 --force-segment-index 445 --force-segment-index 446 --force-segment-index 447 --force-segment-index 448 --force-segment-index 449"
      ]
    },
    {
      "cell_type": "code",
      "execution_count": null,
      "metadata": {
        "cellView": "form",
        "id": "2rP_7wqLBYXO"
      },
      "outputs": [],
      "source": [
        "#@title Download audiobook\n",
        "\n",
        "from google.colab import files\n",
        "\n",
        "\n",
        "file_name = '' # @param {type: \"string\"}\n",
        "\n",
        "if file_name:\n",
        "  files.download(f'generate_pipelines/output/mp3/{file_name}.m4b')"
      ]
    },
    {
      "cell_type": "code",
      "execution_count": null,
      "metadata": {
        "id": "Oe0qtKnccWIR",
        "cellView": "form"
      },
      "outputs": [],
      "source": [
        "#@title Download states\n",
        "\n",
        "# prompt: zip generate_pipelines/states folder and download the zip folder with the name \"states_{time}.zip\"\n",
        "\n",
        "import datetime\n",
        "import os\n",
        "\n",
        "# Get the current time\n",
        "now = datetime.datetime.now()\n",
        "timestamp = now.strftime(\"%Y%m%d_%H%M%S\")\n",
        "\n",
        "# Zip the states folder\n",
        "zip_filename = f\"states_{timestamp}.zip\"\n",
        "!zip -r {zip_filename} generate_pipelines/states\n",
        "\n",
        "# Download the zip file\n",
        "from google.colab import files\n",
        "\n",
        "files.download(zip_filename)"
      ]
    }
  ],
  "metadata": {
    "accelerator": "GPU",
    "colab": {
      "gpuType": "A100",
      "machine_shape": "hm",
      "provenance": []
    },
    "kernelspec": {
      "display_name": "Python 3",
      "name": "python3"
    },
    "language_info": {
      "codemirror_mode": {
        "name": "ipython",
        "version": 3
      },
      "file_extension": ".py",
      "mimetype": "text/x-python",
      "name": "python",
      "nbconvert_exporter": "python",
      "pygments_lexer": "ipython3",
      "version": "3.10.14"
    }
  },
  "nbformat": 4,
  "nbformat_minor": 0
}