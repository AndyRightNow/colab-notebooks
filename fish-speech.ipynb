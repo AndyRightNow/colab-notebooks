{
  "cells": [
    {
      "cell_type": "markdown",
      "metadata": {
        "id": "15WNIp1YTK0d"
      },
      "source": [
        "# Repo"
      ]
    },
    {
      "cell_type": "code",
      "execution_count": null,
      "metadata": {
        "id": "dloLP2NnBYXM",
        "vscode": {
          "languageId": "shellscript"
        },
        "cellView": "form"
      },
      "outputs": [],
      "source": [
        "#@title Clone repo\n",
        "\n",
        "\n",
        "!git clone https://github.com/AndyRightNow/fish-speech.git\n",
        "%cd fish-speech"
      ]
    },
    {
      "cell_type": "code",
      "execution_count": null,
      "metadata": {
        "id": "9ct_JbXwHC5a"
      },
      "outputs": [],
      "source": [
        "#@title Checkout and pull code\n",
        "\n",
        "!git checkout andy\n",
        "!git pull\n",
        "#!git fetch --all && git reset --hard origin/andy"
      ]
    },
    {
      "cell_type": "code",
      "execution_count": null,
      "metadata": {
        "id": "HJk1Gww7BYXN",
        "vscode": {
          "languageId": "shellscript"
        },
        "cellView": "form"
      },
      "outputs": [],
      "source": [
        "#@title Install `uv`\n",
        "\n",
        "!curl -LsSf https://astral.sh/uv/install.sh | sh\n",
        "!source $HOME/.local/bin/env"
      ]
    },
    {
      "cell_type": "code",
      "execution_count": null,
      "metadata": {
        "collapsed": true,
        "id": "9JJtW27kBYXN",
        "vscode": {
          "languageId": "shellscript"
        },
        "cellView": "form"
      },
      "outputs": [],
      "source": [
        "#@title Install dependencies\n",
        "\n",
        "!uv pip install --system torch==2.4.1 torchvision==0.19.1 torchaudio==2.4.1 m4b-util==0.4.1\n",
        "\n",
        "\n",
        "!apt install libsox-dev ffmpeg\n",
        "\n",
        "!apt install build-essential \\\n",
        "    cmake \\\n",
        "    libasound-dev \\\n",
        "    portaudio19-dev \\\n",
        "    libportaudio2 \\\n",
        "    libportaudiocpp0\n",
        "\n",
        "!uv pip install --system -e .[stable]"
      ]
    },
    {
      "cell_type": "code",
      "execution_count": null,
      "metadata": {
        "id": "h_LhkeowBYXN",
        "vscode": {
          "languageId": "shellscript"
        },
        "cellView": "form"
      },
      "outputs": [],
      "source": [
        "#@title Download checkpoints\n",
        "\n",
        "from google.colab import userdata\n",
        "huggingface_token = userdata.get('huggingfaceToken')\n",
        "\n",
        "!uv pip install --system -U \"huggingface_hub[cli]\"\n",
        "!huggingface-cli login --token $huggingface_token  --add-to-git-credential\n",
        "!huggingface-cli download fishaudio/fish-speech-1.5 --local-dir checkpoints/fish-speech-1.5"
      ]
    },
    {
      "cell_type": "code",
      "execution_count": null,
      "metadata": {
        "id": "FPuETpAgBYXN",
        "cellView": "form"
      },
      "outputs": [],
      "source": [
        "#@title Upload input files\n",
        "\n",
        "%cd /content/fish-speech/generate_pipelines\n",
        "!mkdir input\n",
        "%cd input\n",
        "\n",
        "from google.colab import files\n",
        "\n",
        "uploaded = files.upload()\n",
        "\n",
        "for fn in uploaded.keys():\n",
        "  print('User uploaded file \"{name}\" with length {length} bytes'.format(\n",
        "      name=fn, length=len(uploaded[fn])))\n",
        "\n",
        "%cd /content/fish-speech"
      ]
    },
    {
      "cell_type": "markdown",
      "metadata": {
        "id": "gxETuQwLBYXN"
      },
      "source": [
        "# Run generate script"
      ]
    },
    {
      "cell_type": "code",
      "execution_count": null,
      "metadata": {
        "id": "xWByH46tBYXO",
        "cellView": "form"
      },
      "outputs": [],
      "source": [
        "#@title __Archived scripts\n",
        "\n",
        "# !python generate_pipelines/main.py --prompt-name tifa --input-name we-after-everything --insert-segment-title true --segment-title-language en --max-sem-input-count 2500\n",
        "# !python generate_pipelines/convert_mp3.py --input-name we-after-everything --prompt-name tifa --max-sem-input-count 2500\n",
        "# !python generate_pipelines/convert_mp3.py --input-name hengxingshike --prompt-name weisan\n",
        "\n",
        "# ------------------------------------ Archived ------------------------------------\n"
      ]
    },
    {
      "cell_type": "code",
      "execution_count": null,
      "metadata": {
        "id": "4bBk0-7gBYXO",
        "vscode": {
          "languageId": "shellscript"
        },
        "colab": {
          "base_uri": "https://localhost:8080/"
        },
        "outputId": "87be3ef3-6377-4955-cd10-03017cda8452"
      },
      "outputs": [
        {
          "output_type": "stream",
          "name": "stdout",
          "text": [
            "Encoded::  37% 15/41 [01:00<00:36,  1.41s/it]"
          ]
        }
      ],
      "source": [
        "# @title Main scripts\n",
        "# Run scripts here\n",
        "\n",
        "from google.colab import output\n",
        "\n",
        "output.clear()\n",
        "\n",
        "!LOGURU_LEVEL=SUCCESS python generate_pipelines/main.py --prompt-name weisan --input-name hengxingshike --start-segment-index 546 --generate-mp3 true"
      ]
    },
    {
      "cell_type": "code",
      "source": [
        "#@title Bind audiobook\n",
        "\n",
        "\n",
        "hash = 'c701d5ede41f188c4368bd47a23bfce814c56fad353467026d67a719aae98c22' # @param {type: \"string\"}\n",
        "title = 'Hengxingshike Part 5' # @param {type: \"string\"}\n",
        "author = '稚楚' # @param {type: \"string\"}\n",
        "\n",
        "!python -m m4b_util bind generate_pipelines/output/mp3/$hash -o generate_pipelines/output -t \"$title\" --use-filename -a \"$author\""
      ],
      "metadata": {
        "cellView": "form",
        "id": "srt5hZYRQux5"
      },
      "execution_count": null,
      "outputs": []
    },
    {
      "cell_type": "code",
      "execution_count": null,
      "metadata": {
        "cellView": "form",
        "id": "2rP_7wqLBYXO"
      },
      "outputs": [],
      "source": [
        "#@title Download audiobook\n",
        "\n",
        "from google.colab import files\n",
        "\n",
        "\n",
        "if title and author:\n",
        "  files.download(f'generate_pipelines/output/{author} - {title}.m4b')"
      ]
    },
    {
      "cell_type": "code",
      "execution_count": null,
      "metadata": {
        "id": "Oe0qtKnccWIR",
        "cellView": "form"
      },
      "outputs": [],
      "source": [
        "#@title Download states\n",
        "\n",
        "# prompt: use git to check if there are any modified files under generate_pipelines/states folder, and if so, zip generate_pipelines/states folder and download the zip folder with the name \"states_{time}.zip\". If no file changes, log to console\n",
        "\n",
        "import datetime\n",
        "import os\n",
        "\n",
        "# Check for modified files in generate_pipelines/states\n",
        "!git status -s generate_pipelines/states\n",
        "\n",
        "# Check if there's any output from the git status command\n",
        "if os.system(\"git status -s generate_pipelines/states | grep -q . || exit 1\") == 1:\n",
        "  print(\"No changes detected in generate_pipelines/states\")\n",
        "else:\n",
        "  # Get the current time\n",
        "  now = datetime.datetime.now()\n",
        "  timestamp = now.strftime(\"%Y%m%d_%H%M%S\")\n",
        "\n",
        "  # Zip the folder\n",
        "  zip_filename = f\"states_{timestamp}.zip\"\n",
        "  !zip -r $zip_filename generate_pipelines/states\n",
        "\n",
        "  # Download the zip file\n",
        "  from google.colab import files\n",
        "  files.download(zip_filename)"
      ]
    },
    {
      "cell_type": "code",
      "execution_count": null,
      "metadata": {
        "cellView": "form",
        "id": "eqnFqGdqAIcf"
      },
      "outputs": [],
      "source": [
        "#@title (Dangerous) Hard reset to origin\n",
        "\n",
        "!git checkout andy\n",
        "\n",
        "confirm = input(\"Are you sure?(y/n)\")\n",
        "\n",
        "if confirm == \"y\":\n",
        "  !git fetch --all && git reset --hard origin/andy"
      ]
    },
    {
      "cell_type": "markdown",
      "source": [
        "# Debug"
      ],
      "metadata": {
        "id": "MFBhMv_Nlygx"
      }
    },
    {
      "cell_type": "code",
      "source": [
        "debug = True  # @param {type: \"boolean\"}"
      ],
      "metadata": {
        "id": "izleP9uRl0VZ"
      },
      "execution_count": null,
      "outputs": []
    },
    {
      "cell_type": "code",
      "source": [
        "if debug:\n",
        "  %cd /content/fish-speech\n",
        "  !python generate_pipelines/debug_print_shelve.py --input-name hengxingshike --prompt-name weisan\n",
        "\n",
        "  !cat generate_pipelines/states/states.json"
      ],
      "metadata": {
        "id": "3D4R5BvXl8pt"
      },
      "execution_count": null,
      "outputs": []
    }
  ],
  "metadata": {
    "accelerator": "GPU",
    "colab": {
      "gpuType": "L4",
      "machine_shape": "hm",
      "provenance": []
    },
    "kernelspec": {
      "display_name": "Python 3",
      "name": "python3"
    },
    "language_info": {
      "codemirror_mode": {
        "name": "ipython",
        "version": 3
      },
      "file_extension": ".py",
      "mimetype": "text/x-python",
      "name": "python",
      "nbconvert_exporter": "python",
      "pygments_lexer": "ipython3",
      "version": "3.10.14"
    }
  },
  "nbformat": 4,
  "nbformat_minor": 0
}