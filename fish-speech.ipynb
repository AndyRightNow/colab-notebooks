{
  "cells": [
    {
      "cell_type": "markdown",
      "metadata": {
        "id": "15WNIp1YTK0d"
      },
      "source": [
        "# Repo"
      ]
    },
    {
      "cell_type": "code",
      "execution_count": null,
      "metadata": {
        "id": "dloLP2NnBYXM",
        "vscode": {
          "languageId": "shellscript"
        },
        "cellView": "form"
      },
      "outputs": [],
      "source": [
        "#@title Clone repo\n",
        "\n",
        "\n",
        "!git clone https://github.com/AndyRightNow/fish-speech.git\n",
        "%cd fish-speech"
      ]
    },
    {
      "cell_type": "code",
      "execution_count": 15,
      "metadata": {
        "colab": {
          "base_uri": "https://localhost:8080/"
        },
        "id": "9ct_JbXwHC5a",
        "outputId": "28b8c20e-4487-408a-e80c-d47cee5a9688",
        "cellView": "form"
      },
      "outputs": [
        {
          "output_type": "stream",
          "name": "stdout",
          "text": [
            "Already on 'andy'\n",
            "Your branch is up to date with 'origin/andy'.\n",
            "remote: Enumerating objects: 10, done.\u001b[K\n",
            "remote: Counting objects: 100% (10/10), done.\u001b[K\n",
            "remote: Compressing objects: 100% (5/5), done.\u001b[K\n",
            "remote: Total 8 (delta 5), reused 6 (delta 3), pack-reused 0 (from 0)\u001b[K\n",
            "Unpacking objects: 100% (8/8), 1.06 KiB | 541.00 KiB/s, done.\n",
            "From https://github.com/AndyRightNow/fish-speech\n",
            "   a98586a..ea504d0  andy       -> origin/andy\n",
            "Updating a98586a..ea504d0\n",
            "Fast-forward\n",
            " generate_pipelines/debug_print_shelve.py | 27 \u001b[32m+++++++++++++++++++++++++++\u001b[m\n",
            " 1 file changed, 27 insertions(+)\n",
            " create mode 100644 generate_pipelines/debug_print_shelve.py\n"
          ]
        }
      ],
      "source": [
        "#@title Checkout and pull code\n",
        "\n",
        "!git checkout andy\n",
        "!git pull"
      ]
    },
    {
      "cell_type": "code",
      "execution_count": null,
      "metadata": {
        "id": "HJk1Gww7BYXN",
        "vscode": {
          "languageId": "shellscript"
        },
        "cellView": "form"
      },
      "outputs": [],
      "source": [
        "#@title Install `uv`\n",
        "\n",
        "!curl -LsSf https://astral.sh/uv/install.sh | sh\n",
        "!source $HOME/.local/bin/env"
      ]
    },
    {
      "cell_type": "code",
      "execution_count": null,
      "metadata": {
        "collapsed": true,
        "id": "9JJtW27kBYXN",
        "vscode": {
          "languageId": "shellscript"
        },
        "cellView": "form"
      },
      "outputs": [],
      "source": [
        "#@title Install dependencies\n",
        "\n",
        "!uv pip install --system torch==2.4.1 torchvision==0.19.1 torchaudio==2.4.1 m4b-util==0.4.1\n",
        "\n",
        "\n",
        "!apt install libsox-dev ffmpeg\n",
        "\n",
        "!apt install build-essential \\\n",
        "    cmake \\\n",
        "    libasound-dev \\\n",
        "    portaudio19-dev \\\n",
        "    libportaudio2 \\\n",
        "    libportaudiocpp0\n",
        "\n",
        "!uv pip install --system -e .[stable]"
      ]
    },
    {
      "cell_type": "code",
      "execution_count": null,
      "metadata": {
        "id": "h_LhkeowBYXN",
        "vscode": {
          "languageId": "shellscript"
        },
        "cellView": "form"
      },
      "outputs": [],
      "source": [
        "#@title Download checkpoints\n",
        "\n",
        "from google.colab import userdata\n",
        "huggingface_token = userdata.get('huggingfaceToken')\n",
        "\n",
        "!uv pip install --system -U \"huggingface_hub[cli]\"\n",
        "!huggingface-cli login --token $huggingface_token  --add-to-git-credential\n",
        "!huggingface-cli download fishaudio/fish-speech-1.5 --local-dir checkpoints/fish-speech-1.5"
      ]
    },
    {
      "cell_type": "code",
      "execution_count": 6,
      "metadata": {
        "id": "FPuETpAgBYXN",
        "colab": {
          "base_uri": "https://localhost:8080/",
          "height": 365
        },
        "cellView": "form",
        "outputId": "78b5bb25-1013-4cc7-b2f8-37f4084f4d80"
      },
      "outputs": [
        {
          "output_type": "error",
          "ename": "TypeError",
          "evalue": "'NoneType' object is not subscriptable",
          "traceback": [
            "\u001b[0;31m---------------------------------------------------------------------------\u001b[0m",
            "\u001b[0;31mTypeError\u001b[0m                                 Traceback (most recent call last)",
            "\u001b[0;32m<ipython-input-6-ecb3c45030a5>\u001b[0m in \u001b[0;36m<cell line: 9>\u001b[0;34m()\u001b[0m\n\u001b[1;32m      7\u001b[0m \u001b[0;32mfrom\u001b[0m \u001b[0mgoogle\u001b[0m\u001b[0;34m.\u001b[0m\u001b[0mcolab\u001b[0m \u001b[0;32mimport\u001b[0m \u001b[0mfiles\u001b[0m\u001b[0;34m\u001b[0m\u001b[0;34m\u001b[0m\u001b[0m\n\u001b[1;32m      8\u001b[0m \u001b[0;34m\u001b[0m\u001b[0m\n\u001b[0;32m----> 9\u001b[0;31m \u001b[0muploaded\u001b[0m \u001b[0;34m=\u001b[0m \u001b[0mfiles\u001b[0m\u001b[0;34m.\u001b[0m\u001b[0mupload\u001b[0m\u001b[0;34m(\u001b[0m\u001b[0;34m)\u001b[0m\u001b[0;34m\u001b[0m\u001b[0;34m\u001b[0m\u001b[0m\n\u001b[0m\u001b[1;32m     10\u001b[0m \u001b[0;34m\u001b[0m\u001b[0m\n\u001b[1;32m     11\u001b[0m \u001b[0;32mfor\u001b[0m \u001b[0mfn\u001b[0m \u001b[0;32min\u001b[0m \u001b[0muploaded\u001b[0m\u001b[0;34m.\u001b[0m\u001b[0mkeys\u001b[0m\u001b[0;34m(\u001b[0m\u001b[0;34m)\u001b[0m\u001b[0;34m:\u001b[0m\u001b[0;34m\u001b[0m\u001b[0;34m\u001b[0m\u001b[0m\n",
            "\u001b[0;32m/usr/local/lib/python3.10/dist-packages/google/colab/files.py\u001b[0m in \u001b[0;36mupload\u001b[0;34m(target_dir)\u001b[0m\n\u001b[1;32m     70\u001b[0m   \"\"\"\n\u001b[1;32m     71\u001b[0m \u001b[0;34m\u001b[0m\u001b[0m\n\u001b[0;32m---> 72\u001b[0;31m   \u001b[0muploaded_files\u001b[0m \u001b[0;34m=\u001b[0m \u001b[0m_upload_files\u001b[0m\u001b[0;34m(\u001b[0m\u001b[0mmultiple\u001b[0m\u001b[0;34m=\u001b[0m\u001b[0;32mTrue\u001b[0m\u001b[0;34m)\u001b[0m\u001b[0;34m\u001b[0m\u001b[0;34m\u001b[0m\u001b[0m\n\u001b[0m\u001b[1;32m     73\u001b[0m   \u001b[0;31m# Mapping from original filename to filename as saved locally.\u001b[0m\u001b[0;34m\u001b[0m\u001b[0;34m\u001b[0m\u001b[0m\n\u001b[1;32m     74\u001b[0m   \u001b[0mlocal_filenames\u001b[0m \u001b[0;34m=\u001b[0m \u001b[0mdict\u001b[0m\u001b[0;34m(\u001b[0m\u001b[0;34m)\u001b[0m\u001b[0;34m\u001b[0m\u001b[0;34m\u001b[0m\u001b[0m\n",
            "\u001b[0;32m/usr/local/lib/python3.10/dist-packages/google/colab/files.py\u001b[0m in \u001b[0;36m_upload_files\u001b[0;34m(multiple)\u001b[0m\n\u001b[1;32m    169\u001b[0m   \u001b[0mfiles\u001b[0m \u001b[0;34m=\u001b[0m \u001b[0m_collections\u001b[0m\u001b[0;34m.\u001b[0m\u001b[0mdefaultdict\u001b[0m\u001b[0;34m(\u001b[0m\u001b[0mbytes\u001b[0m\u001b[0;34m)\u001b[0m\u001b[0;34m\u001b[0m\u001b[0;34m\u001b[0m\u001b[0m\n\u001b[1;32m    170\u001b[0m \u001b[0;34m\u001b[0m\u001b[0m\n\u001b[0;32m--> 171\u001b[0;31m   \u001b[0;32mwhile\u001b[0m \u001b[0mresult\u001b[0m\u001b[0;34m[\u001b[0m\u001b[0;34m'action'\u001b[0m\u001b[0;34m]\u001b[0m \u001b[0;34m!=\u001b[0m \u001b[0;34m'complete'\u001b[0m\u001b[0;34m:\u001b[0m\u001b[0;34m\u001b[0m\u001b[0;34m\u001b[0m\u001b[0m\n\u001b[0m\u001b[1;32m    172\u001b[0m     result = _output.eval_js(\n\u001b[1;32m    173\u001b[0m         'google.colab._files._uploadFilesContinue(\"{output_id}\")'.format(\n",
            "\u001b[0;31mTypeError\u001b[0m: 'NoneType' object is not subscriptable"
          ]
        }
      ],
      "source": [
        "#@title Upload input files\n",
        "\n",
        "%cd generate_pipelines\n",
        "!mkdir input\n",
        "%cd input\n",
        "\n",
        "from google.colab import files\n",
        "\n",
        "uploaded = files.upload()\n",
        "\n",
        "for fn in uploaded.keys():\n",
        "  print('User uploaded file \"{name}\" with length {length} bytes'.format(\n",
        "      name=fn, length=len(uploaded[fn])))\n",
        "\n",
        "%cd ../../"
      ]
    },
    {
      "cell_type": "markdown",
      "metadata": {
        "id": "gxETuQwLBYXN"
      },
      "source": [
        "# Run generate script"
      ]
    },
    {
      "cell_type": "code",
      "execution_count": null,
      "metadata": {
        "id": "xWByH46tBYXO",
        "cellView": "form"
      },
      "outputs": [],
      "source": [
        "#@title __Archived scripts\n",
        "\n",
        "# !python generate_pipelines/main.py --prompt-name tifa --input-name we-after-everything --insert-segment-title true --segment-title-language en --max-sem-input-count 2500\n",
        "# !python generate_pipelines/convert_mp3.py --input-name we-after-everything --prompt-name tifa --max-sem-input-count 2500\n",
        "# !python generate_pipelines/convert_mp3.py --input-name hengxingshike --prompt-name weisan\n",
        "\n",
        "# ------------------------------------ Archived ------------------------------------\n"
      ]
    },
    {
      "cell_type": "code",
      "execution_count": null,
      "metadata": {
        "id": "4bBk0-7gBYXO",
        "vscode": {
          "languageId": "shellscript"
        },
        "cellView": "form"
      },
      "outputs": [],
      "source": [
        "# @title Main scripts\n",
        "# Run scripts here\n",
        "\n",
        "from google.colab import output\n",
        "\n",
        "output.clear()\n",
        "\n",
        "!LOGURU_LEVEL=SUCCESS python generate_pipelines/main.py --prompt-name weisan --input-name hengxingshike --start-segment-index 400 --generate-mp3 true --force-segment-index 401 --force-segment-index 402 --force-segment-index 403 --force-segment-index 404 --force-segment-index 405 --force-segment-index 406 --force-segment-index 407 --force-segment-index 408 --force-segment-index 409 --force-segment-index 410 --force-segment-index 411 --force-segment-index 412 --force-segment-index 413 --force-segment-index 414 --force-segment-index 415 --force-segment-index 416 --force-segment-index 417 --force-segment-index 418 --force-segment-index 419 --force-segment-index 420 --force-segment-index 421 --force-segment-index 422 --force-segment-index 423 --force-segment-index 424 --force-segment-index 425 --force-segment-index 426 --force-segment-index 427 --force-segment-index 428 --force-segment-index 429 --force-segment-index 430 --force-segment-index 431 --force-segment-index 432 --force-segment-index 433 --force-segment-index 434 --force-segment-index 435 --force-segment-index 436 --force-segment-index 437 --force-segment-index 438 --force-segment-index 439 --force-segment-index 440 --force-segment-index 441 --force-segment-index 442 --force-segment-index 443 --force-segment-index 444 --force-segment-index 445 --force-segment-index 446 --force-segment-index 447 --force-segment-index 448 --force-segment-index 449"
      ]
    },
    {
      "cell_type": "code",
      "source": [
        "#@title Bind audiobook\n",
        "\n",
        "\n",
        "hash = 'c701d5ede41f188c4368bd47a23bfce814c56fad353467026d67a719aae98c22' # @param {type: \"string\"}\n",
        "title = 'Hengxingshike_Part3' # @param {type: \"string\"}\n",
        "\n",
        "!python -m m4b_util bind generate_pipelines/output/mp3/$hash -o generate_pipelines/output -t $title --use-filename"
      ],
      "metadata": {
        "cellView": "form",
        "id": "srt5hZYRQux5"
      },
      "execution_count": null,
      "outputs": []
    },
    {
      "cell_type": "code",
      "execution_count": null,
      "metadata": {
        "id": "2rP_7wqLBYXO"
      },
      "outputs": [],
      "source": [
        "#@title Download audiobook\n",
        "\n",
        "from google.colab import files\n",
        "\n",
        "\n",
        "file_name = '稚楚 - Hengxingshike_Part3' # @param {type: \"string\"}\n",
        "\n",
        "if file_name:\n",
        "  files.download(f'generate_pipelines/output/{file_name}.m4b')"
      ]
    },
    {
      "cell_type": "code",
      "execution_count": null,
      "metadata": {
        "id": "Oe0qtKnccWIR",
        "cellView": "form"
      },
      "outputs": [],
      "source": [
        "#@title Download states\n",
        "\n",
        "# prompt: use git to check if there are any modified files under generate_pipelines/states folder, and if so, zip generate_pipelines/states folder and download the zip folder with the name \"states_{time}.zip\". If no file changes, log to console\n",
        "\n",
        "import datetime\n",
        "import os\n",
        "\n",
        "# Check for modified files in generate_pipelines/states\n",
        "!git status -s generate_pipelines/states\n",
        "\n",
        "# Check if there's any output from the git status command\n",
        "if os.system(\"git status -s generate_pipelines/states | grep -q . || exit 1\") == 1:\n",
        "  print(\"No changes detected in generate_pipelines/states\")\n",
        "else:\n",
        "  # Get the current time\n",
        "  now = datetime.datetime.now()\n",
        "  timestamp = now.strftime(\"%Y%m%d_%H%M%S\")\n",
        "\n",
        "  # Zip the folder\n",
        "  zip_filename = f\"states_{timestamp}.zip\"\n",
        "  !zip -r $zip_filename generate_pipelines/states\n",
        "\n",
        "  # Download the zip file\n",
        "  from google.colab import files\n",
        "  files.download(zip_filename)"
      ]
    },
    {
      "cell_type": "markdown",
      "source": [
        "# Debug"
      ],
      "metadata": {
        "id": "MFBhMv_Nlygx"
      }
    },
    {
      "cell_type": "code",
      "source": [
        "debug = True  # @param {type: \"boolean\"}"
      ],
      "metadata": {
        "id": "izleP9uRl0VZ"
      },
      "execution_count": 13,
      "outputs": []
    },
    {
      "cell_type": "code",
      "source": [
        "if debug:\n",
        "  %cd /content/fish-speech\n",
        "  !python generate_pipelines/debug_print_shelve.py --input-name hengxingshike --prompt-name weisan"
      ],
      "metadata": {
        "colab": {
          "base_uri": "https://localhost:8080/"
        },
        "id": "3D4R5BvXl8pt",
        "outputId": "fd8a2998-4c0c-4850-9802-3c016e38962b"
      },
      "execution_count": 17,
      "outputs": [
        {
          "output_type": "stream",
          "name": "stdout",
          "text": [
            "python3: can't open file '/content/fish-speech/generate_pipelines/input/generate_pipelines/debug_print_shelve.py': [Errno 2] No such file or directory\n"
          ]
        }
      ]
    }
  ],
  "metadata": {
    "accelerator": "GPU",
    "colab": {
      "gpuType": "L4",
      "machine_shape": "hm",
      "provenance": []
    },
    "kernelspec": {
      "display_name": "Python 3",
      "name": "python3"
    },
    "language_info": {
      "codemirror_mode": {
        "name": "ipython",
        "version": 3
      },
      "file_extension": ".py",
      "mimetype": "text/x-python",
      "name": "python",
      "nbconvert_exporter": "python",
      "pygments_lexer": "ipython3",
      "version": "3.10.14"
    }
  },
  "nbformat": 4,
  "nbformat_minor": 0
}